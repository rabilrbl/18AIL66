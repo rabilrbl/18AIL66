{
 "cells": [
  {
   "attachments": {},
   "cell_type": "markdown",
   "metadata": {},
   "source": [
    "**Aim**: Demonstrate the working of the decision tree based ID3 algorithm. Use an appropriate\n",
    "data set for building the decision tree and apply this knowledge toclassify a new\n",
    "sample.\n",
    "\n",
    "---"
   ]
  },
  {
   "cell_type": "code",
   "execution_count": 32,
   "metadata": {},
   "outputs": [],
   "source": [
    "import numpy as np\n",
    "from collections import Counter\n",
    "\n",
    "def entropy(data, target_attribute):\n",
    "    label_column = [instance[target_attribute] for instance in data]\n",
    "    _, counts = np.unique(label_column, return_counts=True)\n",
    "    probabilities = counts / counts.sum()\n",
    "    entropy_value = -np.sum(probabilities * np.log2(probabilities))\n",
    "    return entropy_value"
   ]
  },
  {
   "cell_type": "code",
   "execution_count": 33,
   "metadata": {},
   "outputs": [],
   "source": [
    "def information_gain(data, split_attribute, target_attribute):\n",
    "    split_attribute_column = [instance[split_attribute] for instance in data]\n",
    "    _, counts = np.unique(split_attribute_column, return_counts=True)\n",
    "    probabilities = counts / counts.sum()\n",
    "\n",
    "    weighted_entropy = 0\n",
    "    for value, prob in zip(np.unique(split_attribute_column), probabilities):\n",
    "        subset = [instance for instance in data if instance[split_attribute] == value]\n",
    "        weighted_entropy += prob * entropy(subset, target_attribute)\n",
    "\n",
    "    return entropy(data, target_attribute) - weighted_entropy"
   ]
  },
  {
   "cell_type": "code",
   "execution_count": 34,
   "metadata": {},
   "outputs": [],
   "source": [
    "def find_best_attribute(data, attributes, target_attribute):\n",
    "    information_gains = [information_gain(data, attribute, target_attribute) for attribute in attributes]\n",
    "    best_attribute = attributes[np.argmax(information_gains)]\n",
    "    return best_attribute"
   ]
  },
  {
   "cell_type": "code",
   "execution_count": 35,
   "metadata": {},
   "outputs": [],
   "source": [
    "def create_decision_tree(data, attributes, target_attribute):\n",
    "    label_column = [instance[target_attribute] for instance in data]\n",
    "\n",
    "    # Base cases\n",
    "    if len(set(label_column)) == 1:\n",
    "        return label_column[0]\n",
    "    if len(attributes) == 0:\n",
    "        return Counter(label_column).most_common(1)[0][0]\n",
    "\n",
    "    # Recursive case\n",
    "    best_attribute = find_best_attribute(data, attributes, target_attribute)\n",
    "    tree = {best_attribute: {}}\n",
    "    remaining_attributes = [attr for attr in attributes if attr != best_attribute]\n",
    "\n",
    "    for value in set(instance[best_attribute] for instance in data):\n",
    "        subset = [instance for instance in data if instance[best_attribute] == value]\n",
    "        subtree = create_decision_tree(subset, remaining_attributes, target_attribute)\n",
    "        tree[best_attribute][value] = subtree\n",
    "\n",
    "    return tree\n"
   ]
  },
  {
   "cell_type": "code",
   "execution_count": 36,
   "metadata": {},
   "outputs": [],
   "source": [
    "def classify(instance, tree):\n",
    "    if isinstance(tree, str):\n",
    "        return tree\n",
    "    attribute = list(tree.keys())[0]\n",
    "    value = instance[attribute]\n",
    "    subtree = tree[attribute][value]\n",
    "    return classify(instance, subtree)"
   ]
  },
  {
   "cell_type": "code",
   "execution_count": 37,
   "metadata": {},
   "outputs": [
    {
     "name": "stdout",
     "output_type": "stream",
     "text": [
      "Decision tree:\n",
      "{'Outlook': {'Overcast': 'Yes',\n",
      "             'Rain': {'Wind': {'Strong': 'No', 'Weak': 'Yes'}},\n",
      "             'Sunny': {'Humidity': {'High': 'No', 'Normal': 'Yes'}}}}\n",
      "\n",
      "Classify test instance:\n"
     ]
    },
    {
     "data": {
      "text/html": [
       "<div>\n",
       "<style scoped>\n",
       "    .dataframe tbody tr th:only-of-type {\n",
       "        vertical-align: middle;\n",
       "    }\n",
       "\n",
       "    .dataframe tbody tr th {\n",
       "        vertical-align: top;\n",
       "    }\n",
       "\n",
       "    .dataframe thead th {\n",
       "        text-align: right;\n",
       "    }\n",
       "</style>\n",
       "<table border=\"1\" class=\"dataframe\">\n",
       "  <thead>\n",
       "    <tr style=\"text-align: right;\">\n",
       "      <th></th>\n",
       "      <th>PlayTennis</th>\n",
       "      <th>Outlook</th>\n",
       "      <th>Temperature</th>\n",
       "      <th>Humidity</th>\n",
       "      <th>Wind</th>\n",
       "    </tr>\n",
       "  </thead>\n",
       "  <tbody>\n",
       "    <tr>\n",
       "      <th>0</th>\n",
       "      <td>Yes</td>\n",
       "      <td>Rain</td>\n",
       "      <td>Cool</td>\n",
       "      <td>Normal</td>\n",
       "      <td>Weak</td>\n",
       "    </tr>\n",
       "    <tr>\n",
       "      <th>1</th>\n",
       "      <td>No</td>\n",
       "      <td>Rain</td>\n",
       "      <td>Mild</td>\n",
       "      <td>High</td>\n",
       "      <td>Strong</td>\n",
       "    </tr>\n",
       "  </tbody>\n",
       "</table>\n",
       "</div>"
      ],
      "text/plain": [
       "  PlayTennis Outlook Temperature Humidity    Wind\n",
       "0        Yes    Rain        Cool   Normal    Weak\n",
       "1         No    Rain        Mild     High  Strong"
      ]
     },
     "execution_count": 37,
     "metadata": {},
     "output_type": "execute_result"
    }
   ],
   "source": [
    "import pandas as pd\n",
    "from pprint import pprint\n",
    "\n",
    "df = pd.read_csv('playtennis.csv')\n",
    "data = df.to_dict('records')\n",
    "\n",
    "target_attribute = 'PlayTennis'\n",
    "attributes = list(data[0].keys())\n",
    "attributes.remove(target_attribute)\n",
    "\n",
    "tree = create_decision_tree(data, attributes, target_attribute)\n",
    "print(\"Decision tree:\")\n",
    "pprint(tree)\n",
    "print()\n",
    "# # Test instance\n",
    "df_test = pd.read_csv('playtennis_test.csv')\n",
    "\n",
    "# Classify test instance\n",
    "print(\"Classify test instance:\")\n",
    "df_test['PlayTennis'] = df_test.apply(lambda row: classify(row, tree), axis=1)\n",
    "df_test"
   ]
  }
 ],
 "metadata": {
  "kernelspec": {
   "display_name": ".jupyter",
   "language": "python",
   "name": "python3"
  },
  "language_info": {
   "codemirror_mode": {
    "name": "ipython",
    "version": 3
   },
   "file_extension": ".py",
   "mimetype": "text/x-python",
   "name": "python",
   "nbconvert_exporter": "python",
   "pygments_lexer": "ipython3",
   "version": "3.10.11"
  },
  "orig_nbformat": 4
 },
 "nbformat": 4,
 "nbformat_minor": 2
}
