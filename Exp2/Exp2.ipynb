{
 "cells": [
  {
   "attachments": {},
   "cell_type": "markdown",
   "metadata": {},
   "source": [
    "# Experiment 2\n",
    "**Aim**: For a given set of training data edataamples stored in a .CSV file, implement and\n",
    "demonstrate the Candidate-Elimination algorithm. Output a description of the set\n",
    "of all hypotheses consistent with the training edataamples.\n",
    "\n",
    "---"
   ]
  },
  {
   "attachments": {},
   "cell_type": "markdown",
   "metadata": {},
   "source": [
    "Read and print the training edataamples from a .CSV file."
   ]
  },
  {
   "cell_type": "code",
   "execution_count": 19,
   "metadata": {},
   "outputs": [
    {
     "name": "stdout",
     "output_type": "stream",
     "text": [
      "[['sunny', 'warm', 'normal', 'strong', 'warm', 'same', 'Yes'],\n",
      " ['sunny', 'warm', 'high', 'strong', 'warm', 'same', 'Yes'],\n",
      " ['rainy', 'cold', 'high', 'strong', 'warm', 'change', 'No'],\n",
      " ['sunny', 'warm', 'high', 'strong', 'cool', 'change', 'Yes']]\n"
     ]
    }
   ],
   "source": [
    "import csv \n",
    "from pprint import pprint\n",
    "\n",
    "data = []\n",
    "\n",
    "with open('Enjoysport.csv', 'r') as csvfile:\n",
    "    for row in csv.reader(csvfile):\n",
    "        if row[-1] == 'Yes' or row[-1] == 'No':\n",
    "            data.append(row)\n",
    "\n",
    "pprint(data)"
   ]
  },
  {
   "cell_type": "code",
   "execution_count": 20,
   "metadata": {},
   "outputs": [
    {
     "name": "stdout",
     "output_type": "stream",
     "text": [
      "Initial value of hypothesis: \n",
      "S0:  ['%', '%', '%', '%', '%', '%']\n",
      "G0:  ['?', '?', '?', '?', '?', '?']\n"
     ]
    }
   ],
   "source": [
    "# Implement candidate elimination algorithm for finding S- and G- sets from the given set of training edataamples.\n",
    "\n",
    "print(\"Initial value of hypothesis: \")\n",
    "len_hypothesis = len(data[0]) - 1\n",
    "S = ['%'] * len_hypothesis\n",
    "G = ['?'] * len_hypothesis\n",
    "\n",
    "print(\"S0: \", S)\n",
    "print(\"G0: \", G)"
   ]
  },
  {
   "cell_type": "code",
   "execution_count": 38,
   "metadata": {},
   "outputs": [
    {
     "name": "stdout",
     "output_type": "stream",
     "text": [
      "--------------------------------------------------------------------------------\n",
      "Positive Example  ['sunny', 'warm', 'normal', 'strong', 'warm', 'same', 'Yes']\n",
      "S1  ['sunny', 'warm', 'normal', 'strong', 'warm', 'same']\n",
      "G1  ['?', '?', '?', '?', '?', '?']\n",
      "--------------------------------------------------------------------------------\n",
      "Positive Example  ['sunny', 'warm', 'high', 'strong', 'warm', 'same', 'Yes']\n",
      "S2  ['sunny', 'warm', '?', 'strong', 'warm', 'same']\n",
      "G2  ['?', '?', '?', '?', '?', '?']\n",
      "--------------------------------------------------------------------------------\n",
      "Negative Example  ['rainy', 'cold', 'high', 'strong', 'warm', 'change', 'No']\n",
      "S3  ['sunny', 'warm', '?', 'strong', 'warm', 'same']\n",
      "G3 [['sunny', '?', '?', '?', '?', '?'], ['?', 'warm', '?', '?', '?', '?'], ['?', '?', '?', '?', '?', 'same']]\n",
      "--------------------------------------------------------------------------------\n",
      "Positive Example  ['sunny', 'warm', 'high', 'strong', 'cool', 'change', 'Yes']\n",
      "S4  ['sunny', 'warm', '?', 'strong', '?', '?']\n",
      "G4  [['sunny', '?', '?', '?', '?', '?'], ['?', 'warm', '?', '?', '?', '?']]\n"
     ]
    }
   ],
   "source": [
    "for j in range(len_hypothesis):\n",
    "    S[j] = data[0][j]\n",
    "\n",
    "gen_hyp=[]\n",
    "\n",
    "for i in range(0,len(data)):\n",
    "    print(\"-\"*80)\n",
    "    ex = data[i]\n",
    "    class_label = ex[-1]\n",
    "    if class_label == 'Yes':\n",
    "        print(\"Positive Example \",ex)\n",
    "        for j in range(0,len_hypothesis):\n",
    "            if ex[j]!=S[j]:\n",
    "                S[j]='?'\n",
    "\n",
    "        for j in range(0,len_hypothesis):\n",
    "            for k in range(1,len(gen_hyp)):\n",
    "                if gen_hyp[k][j]!='?' and gen_hyp[k][j]!=S[j]:\n",
    "                    del gen_hyp[k]\n",
    "        print(f\"S{i+1} \",S)\n",
    "\n",
    "        if gen_hyp:\n",
    "            print(f\"G{i+1} \",gen_hyp)\n",
    "        else:\n",
    "            print(f\"G{i+1} \",G)\n",
    "\n",
    "    elif class_label =='No':\n",
    "        print(\"Negative Example \",ex)\n",
    "        for j in range(0,len_hypothesis):\n",
    "            if S[j] != ex[j] and S[j] != '?':\n",
    "                G[j]=S[j]\n",
    "                gen_hyp.append(G)\n",
    "                G = ['?'] * len_hypothesis\n",
    "                \n",
    "        print(\"S{0} \".format(i+1),S)\n",
    "        print(\"G{0}\".format(i+1),gen_hyp)"
   ]
  }
 ],
 "metadata": {
  "kernelspec": {
   "display_name": "Python 3 (ipykernel)",
   "language": "python",
   "name": "python3"
  },
  "language_info": {
   "codemirror_mode": {
    "name": "ipython",
    "version": 3
   },
   "file_extension": ".py",
   "mimetype": "text/x-python",
   "name": "python",
   "nbconvert_exporter": "python",
   "pygments_lexer": "ipython3",
   "version": "3.10.11"
  },
  "orig_nbformat": 4
 },
 "nbformat": 4,
 "nbformat_minor": 2
}
