{
 "cells": [
  {
   "attachments": {},
   "cell_type": "markdown",
   "metadata": {},
   "source": [
    "# Experiment 1\n",
    "**Aim** : Implement and demonstrate the FIND-S algorithm for finding the most\n",
    "specific hypothesis based on a given set of training data samples. Read the training\n",
    "data from a .CSV file and show the output for test cases. Develop an interactive\n",
    "program by Comparing the result by implementing LIST THEN ELIMINATE\n",
    "algorithm.\n",
    "\n",
    "**Input** ( Training Example) : EnjoySport Dataset\n",
    "\n",
    "**Output** : Maximally specific hypothesis\n",
    "\n",
    "---"
   ]
  },
  {
   "attachments": {},
   "cell_type": "markdown",
   "metadata": {},
   "source": [
    "Function to read csv file and return a list of rows"
   ]
  },
  {
   "cell_type": "code",
   "execution_count": 1,
   "metadata": {},
   "outputs": [],
   "source": [
    "import csv # csv reader\n",
    "from pprint import pprint # pretty print"
   ]
  },
  {
   "attachments": {},
   "cell_type": "markdown",
   "metadata": {},
   "source": [
    "Read Enjoysport dataset"
   ]
  },
  {
   "cell_type": "code",
   "execution_count": 2,
   "metadata": {},
   "outputs": [
    {
     "name": "stdout",
     "output_type": "stream",
     "text": [
      "Data:\n",
      "[['sunny', 'warm', 'normal', 'strong', 'warm', 'same', 'Yes'],\n",
      " ['sunny', 'warm', 'high', 'strong', 'warm', 'same', 'Yes'],\n",
      " ['rainy', 'cold', 'high', 'strong', 'warm', 'change', 'No'],\n",
      " ['sunny', 'warm', 'high', 'strong', 'cool', 'change', 'Yes']]\n"
     ]
    }
   ],
   "source": [
    "data = [] # Initialize data variable\n",
    "with open(\"Enjoysport.csv\") as csvfile: # Open CSV file\n",
    "        for row in csv.reader(csvfile): # For each row in CSV file\n",
    "                data.append(row) # Add row to data\n",
    "print('Data:')\n",
    "pprint(data) # Print data"
   ]
  },
  {
   "attachments": {},
   "cell_type": "markdown",
   "metadata": {},
   "source": [
    "Filter postive instances from the dataset"
   ]
  },
  {
   "cell_type": "code",
   "execution_count": 3,
   "metadata": {},
   "outputs": [
    {
     "name": "stdout",
     "output_type": "stream",
     "text": [
      "Positive data:\n",
      "[['sunny', 'warm', 'normal', 'strong', 'warm', 'same'],\n",
      " ['sunny', 'warm', 'high', 'strong', 'warm', 'same'],\n",
      " ['sunny', 'warm', 'high', 'strong', 'cool', 'change']]\n"
     ]
    }
   ],
   "source": [
    "pos_data = [] # to store positive data\n",
    "for row in data: # for each row\n",
    "    if row[-1] == 'Yes': # last column\n",
    "        pos_data.append(row[:-1]) # all columns except last\n",
    "print(\"Positive data:\")\n",
    "pprint(pos_data) # print positive data"
   ]
  },
  {
   "attachments": {},
   "cell_type": "markdown",
   "metadata": {},
   "source": [
    "Implement find_s algorithm for finding maximally specific hypothesis for given positive data"
   ]
  },
  {
   "cell_type": "code",
   "execution_count": 4,
   "metadata": {},
   "outputs": [
    {
     "name": "stdout",
     "output_type": "stream",
     "text": [
      "['%', '%', '%', '%', '%', '%']\n",
      "['sunny', 'warm', 'normal', 'strong', 'warm', 'same']\n",
      "['sunny', 'warm', '?', 'strong', 'warm', 'same']\n",
      "['sunny', 'warm', '?', 'strong', '?', '?']\n"
     ]
    }
   ],
   "source": [
    "h = ['%'] * (len(pos_data[0])) # initialize h to most specific hypothesis\n",
    "print(h) # print h\n",
    "for row in pos_data: # for each row in positive data\n",
    "    for i in range(len(row)): # for each attribute\n",
    "        if h[i] == '%': # if h is not yet initialized\n",
    "            h[i] = row[i] # initialize h\n",
    "        elif h[i] != row[i]: # if h is already initialized\n",
    "            h[i] = '?' # generalize h\n",
    "    print(h) # print h"
   ]
  }
 ],
 "metadata": {
  "kernelspec": {
   "display_name": "Python 3 (ipykernel)",
   "language": "python",
   "name": "python3"
  },
  "language_info": {
   "codemirror_mode": {
    "name": "ipython",
    "version": 3
   },
   "file_extension": ".py",
   "mimetype": "text/x-python",
   "name": "python",
   "nbconvert_exporter": "python",
   "pygments_lexer": "ipython3",
   "version": "3.10.11"
  },
  "orig_nbformat": 4
 },
 "nbformat": 4,
 "nbformat_minor": 2
}
