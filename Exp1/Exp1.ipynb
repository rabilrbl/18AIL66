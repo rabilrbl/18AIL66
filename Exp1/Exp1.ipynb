{
 "cells": [
  {
   "attachments": {},
   "cell_type": "markdown",
   "metadata": {},
   "source": [
    "# Experiment 1\n",
    "**Aim** : Implement and demonstrate the FIND-S algorithm for finding the most\n",
    "specific hypothesis based on a given set of training data samples. Read the training\n",
    "data from a .CSV file and show the output for test cases. Develop an interactive\n",
    "program by Comparing the result by implementing LIST THEN ELIMINATE\n",
    "algorithm.\n",
    "\n",
    "**Input** ( Training Example) : EnjoySport Dataset\n",
    "\n",
    "**Output** : Maximally specific hypothesis\n",
    "\n",
    "---"
   ]
  },
  {
   "attachments": {},
   "cell_type": "markdown",
   "metadata": {},
   "source": [
    "Function to read csv file and return a list of rows"
   ]
  },
  {
   "cell_type": "code",
   "execution_count": 5,
   "metadata": {},
   "outputs": [],
   "source": [
    "import csv\n",
    "from pprint import pprint\n",
    "\n",
    "def read_csv(file: str) -> list:\n",
    "    with open(file) as csvfile:\n",
    "        reader = csv.reader(csvfile)\n",
    "        return list(reader)"
   ]
  },
  {
   "attachments": {},
   "cell_type": "markdown",
   "metadata": {},
   "source": [
    "Read Enjoysport dataset"
   ]
  },
  {
   "cell_type": "code",
   "execution_count": 7,
   "metadata": {},
   "outputs": [
    {
     "name": "stdout",
     "output_type": "stream",
     "text": [
      "[['sunny', 'warm', 'normal', 'strong', 'warm', 'same', 'Yes'],\n",
      " ['sunny', 'warm', 'high', 'strong', 'warm', 'same', 'Yes'],\n",
      " ['rainy', 'cold', 'high', 'strong', 'warm', 'change', 'No'],\n",
      " ['sunny', 'warm', 'high', 'strong', 'cool', 'change', 'Yes']]\n"
     ]
    }
   ],
   "source": [
    "data = read_csv('Enjoysport.csv')\n",
    "print('Data:')\n",
    "pprint(data)"
   ]
  },
  {
   "attachments": {},
   "cell_type": "markdown",
   "metadata": {},
   "source": [
    "Filter postive instances from the dataset"
   ]
  },
  {
   "cell_type": "code",
   "execution_count": 8,
   "metadata": {},
   "outputs": [
    {
     "name": "stdout",
     "output_type": "stream",
     "text": [
      "[['sunny', 'warm', 'normal', 'strong', 'warm', 'same'],\n",
      " ['sunny', 'warm', 'high', 'strong', 'warm', 'same'],\n",
      " ['sunny', 'warm', 'high', 'strong', 'cool', 'change']]\n"
     ]
    }
   ],
   "source": [
    "pos_data = []\n",
    "for row in data:\n",
    "    if row[-1] == 'Yes':\n",
    "        pos_data.append(row[:-1])\n",
    "print(\"Positive data:\")\n",
    "pprint(pos_data)"
   ]
  },
  {
   "attachments": {},
   "cell_type": "markdown",
   "metadata": {},
   "source": [
    "Implement find_s algorithm for finding maximally specific hypothesis for given positive data"
   ]
  },
  {
   "cell_type": "code",
   "execution_count": 24,
   "metadata": {},
   "outputs": [],
   "source": [
    "def find_s(pos_data: list) -> None:\n",
    "    h = ['%'] * (len(pos_data[0]))\n",
    "    print(h)\n",
    "    for row in pos_data:\n",
    "        for i in range(len(row)):\n",
    "            if h[i] == '%':\n",
    "                h[i] = row[i]\n",
    "            elif h[i] != row[i]:\n",
    "                h[i] = '?'\n",
    "        print(h)"
   ]
  },
  {
   "cell_type": "code",
   "execution_count": 25,
   "metadata": {},
   "outputs": [
    {
     "name": "stdout",
     "output_type": "stream",
     "text": [
      "['%', '%', '%', '%', '%', '%']\n",
      "['sunny', 'warm', 'normal', 'strong', 'warm', 'same']\n",
      "['sunny', 'warm', '?', 'strong', 'warm', 'same']\n",
      "['sunny', 'warm', '?', 'strong', '?', '?']\n"
     ]
    }
   ],
   "source": [
    "find_s(pos_data)"
   ]
  }
 ],
 "metadata": {
  "kernelspec": {
   "display_name": "Python 3 (ipykernel)",
   "language": "python",
   "name": "python3"
  },
  "language_info": {
   "codemirror_mode": {
    "name": "ipython",
    "version": 3
   },
   "file_extension": ".py",
   "mimetype": "text/x-python",
   "name": "python",
   "nbconvert_exporter": "python",
   "pygments_lexer": "ipython3",
   "version": "3.10.4"
  },
  "orig_nbformat": 4
 },
 "nbformat": 4,
 "nbformat_minor": 2
}
