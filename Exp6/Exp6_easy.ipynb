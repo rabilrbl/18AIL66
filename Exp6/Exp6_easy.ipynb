{
 "cells": [
  {
   "cell_type": "code",
   "execution_count": 30,
   "metadata": {},
   "outputs": [
    {
     "name": "stdout",
     "output_type": "stream",
     "text": [
      "Total length of the dataset: 15\n",
      "\n",
      "Training set:     0    1   2   3    4     5      6   7\n",
      "13  1  189  60  23  846  30.1  0.398  59\n",
      "5   5  116  74   0    0  25.6  0.201  30\n",
      "8   2  197  70  45  543  30.5  0.158  53\n",
      "2   8  183  64   0    0  23.3  0.672  32\n",
      "1   1   85  66  29    0  26.6  0.351  31\n",
      "\n",
      "Testing set:      0    1   2   3  4     5      6   7\n",
      "9    8  125  96   0  0   0.0  0.232  54\n",
      "11  10  168  74   0  0  38.0  0.537  34\n",
      "0    6  148  72  35  0  33.6  0.627  50\n",
      "\n",
      "Predicted values: [0 0 1]\n",
      "\n",
      "Accuracy: 0.3333333333333333\n"
     ]
    }
   ],
   "source": [
    "import pandas as pd\n",
    "from sklearn.model_selection import train_test_split\n",
    "from sklearn.naive_bayes import GaussianNB\n",
    "from sklearn.metrics import accuracy_score\n",
    "\n",
    "# Load the dataset from the CSV file\n",
    "data = pd.read_csv('nbayes.csv', header=None)\n",
    "\n",
    "# Print total length of the dataset\n",
    "print(\"Total length of the dataset:\", len(data))\n",
    "\n",
    "# Split the dataset into features (X) and labels (y)\n",
    "X = data.iloc[:, :-1]\n",
    "y = data.iloc[:, -1]\n",
    "\n",
    "# Split the dataset into training and testing sets\n",
    "X_train, X_test, y_train, y_test = train_test_split(X, y, test_size=0.2, random_state=42)\n",
    "\n",
    "# Print first 5 rows of the training set\n",
    "print(\"\\nTraining set:\", X_train.head())\n",
    "\n",
    "# Print first 5 rows of the testing set\n",
    "print(\"\\nTesting set:\", X_test.head())\n",
    "\n",
    "# Create an instance of the Naïve Bayesian classifier\n",
    "classifier = GaussianNB()\n",
    "\n",
    "# Train the classifier on the training set\n",
    "classifier.fit(X_train, y_train)\n",
    "\n",
    "# Make predictions on the test set\n",
    "y_pred = classifier.predict(X_test)\n",
    "\n",
    "print(\"\\nPredicted values:\", y_pred)\n",
    "\n",
    "# Compute the accuracy of the classifier\n",
    "accuracy = accuracy_score(y_test, y_pred)\n",
    "print(\"\\nAccuracy:\", accuracy)"
   ]
  }
 ],
 "metadata": {
  "kernelspec": {
   "display_name": ".jupyter",
   "language": "python",
   "name": "python3"
  },
  "language_info": {
   "name": "python",
   "version": "3.10.11"
  },
  "orig_nbformat": 4
 },
 "nbformat": 4,
 "nbformat_minor": 2
}
